{
 "cells": [
  {
   "cell_type": "code",
   "execution_count": 1,
   "id": "d1bc0e23-0726-4e77-8731-906c551850a0",
   "metadata": {},
   "outputs": [
    {
     "name": "stdout",
     "output_type": "stream",
     "text": [
      "Collecting git+https://github.com/aquinordg/mltools.git\n",
      "  Cloning https://github.com/aquinordg/mltools.git to c:\\users\\dougl\\appdata\\local\\temp\\pip-req-build-_u0bs8go\n",
      "  Resolved https://github.com/aquinordg/mltools.git to commit e04c3e19a2bd6d842f46220e03cef30c1766d01e\n",
      "  Installing build dependencies: started\n",
      "  Installing build dependencies: finished with status 'done'\n",
      "  Getting requirements to build wheel: started\n",
      "  Getting requirements to build wheel: finished with status 'done'\n",
      "  Preparing metadata (pyproject.toml): started\n",
      "  Preparing metadata (pyproject.toml): finished with status 'done'\n",
      "Requirement already satisfied: numpy in c:\\users\\dougl\\appdata\\local\\programs\\python\\python38\\lib\\site-packages (from mltools==0.1.0) (1.21.4)\n",
      "Requirement already satisfied: pandas in c:\\users\\dougl\\appdata\\local\\programs\\python\\python38\\lib\\site-packages (from mltools==0.1.0) (1.4.1)\n",
      "Requirement already satisfied: python-dateutil>=2.8.1 in c:\\users\\dougl\\appdata\\local\\programs\\python\\python38\\lib\\site-packages (from pandas->mltools==0.1.0) (2.8.2)\n",
      "Requirement already satisfied: pytz>=2020.1 in c:\\users\\dougl\\appdata\\local\\programs\\python\\python38\\lib\\site-packages (from pandas->mltools==0.1.0) (2021.3)\n",
      "Requirement already satisfied: six>=1.5 in c:\\users\\dougl\\appdata\\local\\programs\\python\\python38\\lib\\site-packages (from python-dateutil>=2.8.1->pandas->mltools==0.1.0) (1.12.0)\n"
     ]
    },
    {
     "name": "stderr",
     "output_type": "stream",
     "text": [
      "  Running command git clone --filter=blob:none --quiet https://github.com/aquinordg/mltools.git 'C:\\Users\\dougl\\AppData\\Local\\Temp\\pip-req-build-_u0bs8go'\n"
     ]
    }
   ],
   "source": [
    "!pip install git+https://github.com/aquinordg/mltools.git"
   ]
  },
  {
   "cell_type": "code",
   "execution_count": 2,
   "id": "c9db6ad1-81a6-4894-8982-5441373ded84",
   "metadata": {},
   "outputs": [],
   "source": [
    "from sklearn.datasets import make_classification\n",
    "from sklearn.model_selection import train_test_split\n",
    "from sklearn.ensemble import RandomForestClassifier\n",
    "\n",
    "\n",
    "X, y = make_classification(\n",
    "    n_samples=1_000,\n",
    "    n_features=2,\n",
    "    n_redundant=0,\n",
    "    n_informative=2,\n",
    "    random_state=1,\n",
    "    n_clusters_per_class=1,\n",
    ")\n",
    "\n",
    "X_train, X_test, y_train, y_test = train_test_split(X, y, test_size=0.4, random_state=0)\n",
    "\n",
    "model = RandomForestClassifier(max_depth=5, n_estimators=10, max_features=1, random_state=1)"
   ]
  },
  {
   "cell_type": "code",
   "execution_count": 3,
   "id": "9d96efec-15b2-48e7-b736-014a94176bf9",
   "metadata": {},
   "outputs": [],
   "source": [
    "ic = 1\n",
    "model.fit(X_train, y_train)\n",
    "predict_proba = model.predict_proba(X_test)[:, ic]\n",
    "expected = y_test == ic\n",
    "threshold=.8\n",
    "mission_duration = 600 # seconds\n",
    "captures_per_second = 1\n",
    "sea_nosea_ratio = 1000"
   ]
  },
  {
   "cell_type": "code",
   "execution_count": 4,
   "id": "a4379f24-d09b-4c32-9738-668530dd30bb",
   "metadata": {},
   "outputs": [
    {
     "ename": "ImportError",
     "evalue": "cannot import name 'aussys_rb_thres' from 'mltools' (c:\\users\\dougl\\appdata\\local\\programs\\python\\python38\\lib\\site-packages\\mltools\\__init__.py)",
     "output_type": "error",
     "traceback": [
      "\u001b[1;31m---------------------------------------------------------------------------\u001b[0m",
      "\u001b[1;31mImportError\u001b[0m                               Traceback (most recent call last)",
      "\u001b[1;32m~\\AppData\\Local\\Temp/ipykernel_7920/3797499448.py\u001b[0m in \u001b[0;36m<module>\u001b[1;34m\u001b[0m\n\u001b[1;32m----> 1\u001b[1;33m \u001b[1;32mfrom\u001b[0m \u001b[0mmltools\u001b[0m \u001b[1;32mimport\u001b[0m \u001b[0maussys_rb_thres\u001b[0m\u001b[1;33m,\u001b[0m \u001b[0maussys_rb_images\u001b[0m\u001b[1;33m\u001b[0m\u001b[1;33m\u001b[0m\u001b[0m\n\u001b[0m",
      "\u001b[1;31mImportError\u001b[0m: cannot import name 'aussys_rb_thres' from 'mltools' (c:\\users\\dougl\\appdata\\local\\programs\\python\\python38\\lib\\site-packages\\mltools\\__init__.py)"
     ]
    }
   ],
   "source": [
    "from mltools import aussys_rb_thres, aussys_rb_images"
   ]
  },
  {
   "cell_type": "code",
   "execution_count": null,
   "id": "3097e7b9-3af3-407e-a923-b1a9ebd907a9",
   "metadata": {},
   "outputs": [],
   "source": [
    "aussys_rb_thres(predict_proba,\n",
    "                expected,\n",
    "                threshold,\n",
    "                mission_duration,\n",
    "                captures_per_second,\n",
    "                sea_nosea_ratio,\n",
    "                print_mode = True)"
   ]
  },
  {
   "cell_type": "code",
   "execution_count": null,
   "id": "a41d8ddd-0d49-45e1-b1a1-26e2e13aeb7f",
   "metadata": {},
   "outputs": [],
   "source": [
    "aussys_rb_images(predict_proba,\n",
    "                 expected,\n",
    "                 mission_duration,\n",
    "                 captures_per_second,\n",
    "                 sea_nosea_ratio,\n",
    "                 sen,\n",
    "                 sea_fpr=0,\n",
    "                 nosea_fnr=114,\n",
    "                 print_mode=True)"
   ]
  }
 ],
 "metadata": {
  "kernelspec": {
   "display_name": "Python 3 (ipykernel)",
   "language": "python",
   "name": "python3"
  },
  "language_info": {
   "codemirror_mode": {
    "name": "ipython",
    "version": 3
   },
   "file_extension": ".py",
   "mimetype": "text/x-python",
   "name": "python",
   "nbconvert_exporter": "python",
   "pygments_lexer": "ipython3",
   "version": "3.8.10"
  }
 },
 "nbformat": 4,
 "nbformat_minor": 5
}
