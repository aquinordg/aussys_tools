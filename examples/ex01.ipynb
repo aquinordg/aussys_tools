{
 "cells": [
  {
   "cell_type": "code",
   "execution_count": 1,
   "id": "d1bc0e23-0726-4e77-8731-906c551850a0",
   "metadata": {},
   "outputs": [
    {
     "name": "stdout",
     "output_type": "stream",
     "text": [
      "Collecting git+https://github.com/aquinordg/mltools.git\n",
      "  Cloning https://github.com/aquinordg/mltools.git to c:\\users\\dougl\\appdata\\local\\temp\\pip-req-build-zsp1oqwg\n",
      "  Resolved https://github.com/aquinordg/mltools.git to commit ae1c2582596ec7c55756d5a046647be39c4c2604\n",
      "  Installing build dependencies: started\n",
      "  Installing build dependencies: finished with status 'done'\n",
      "  Getting requirements to build wheel: started\n",
      "  Getting requirements to build wheel: finished with status 'done'\n",
      "  Preparing metadata (pyproject.toml): started\n",
      "  Preparing metadata (pyproject.toml): finished with status 'done'\n",
      "Requirement already satisfied: pandas in c:\\users\\dougl\\appdata\\local\\programs\\python\\python38\\lib\\site-packages (from mltools==0.1.0) (1.4.1)\n",
      "Requirement already satisfied: numpy in c:\\users\\dougl\\appdata\\local\\programs\\python\\python38\\lib\\site-packages (from mltools==0.1.0) (1.21.4)\n",
      "Requirement already satisfied: python-dateutil>=2.8.1 in c:\\users\\dougl\\appdata\\local\\programs\\python\\python38\\lib\\site-packages (from pandas->mltools==0.1.0) (2.8.2)\n",
      "Requirement already satisfied: pytz>=2020.1 in c:\\users\\dougl\\appdata\\local\\programs\\python\\python38\\lib\\site-packages (from pandas->mltools==0.1.0) (2021.3)\n",
      "Requirement already satisfied: six>=1.5 in c:\\users\\dougl\\appdata\\local\\programs\\python\\python38\\lib\\site-packages (from python-dateutil>=2.8.1->pandas->mltools==0.1.0) (1.12.0)\n"
     ]
    },
    {
     "name": "stderr",
     "output_type": "stream",
     "text": [
      "  Running command git clone --filter=blob:none --quiet https://github.com/aquinordg/mltools.git 'C:\\Users\\dougl\\AppData\\Local\\Temp\\pip-req-build-zsp1oqwg'\n",
      "\n",
      "[notice] A new release of pip is available: 23.0 -> 23.0.1\n",
      "[notice] To update, run: python.exe -m pip install --upgrade pip\n"
     ]
    }
   ],
   "source": [
    "!pip install git+https://github.com/aquinordg/mltools.git"
   ]
  },
  {
   "cell_type": "code",
   "execution_count": 2,
   "id": "c9db6ad1-81a6-4894-8982-5441373ded84",
   "metadata": {},
   "outputs": [],
   "source": [
    "from sklearn.datasets import make_classification\n",
    "from sklearn.model_selection import train_test_split\n",
    "from sklearn.ensemble import RandomForestClassifier\n",
    "\n",
    "from mltools import aussys_rb_thres, aussys_rb_images\n",
    "\n",
    "\n",
    "X, y = make_classification(\n",
    "    n_samples=1_000,\n",
    "    n_features=2,\n",
    "    n_redundant=0,\n",
    "    n_informative=2,\n",
    "    random_state=1,\n",
    "    n_clusters_per_class=1,\n",
    ")\n",
    "\n",
    "X_train, X_test, y_train, y_test = train_test_split(X, y, test_size=0.4, random_state=0)\n",
    "\n",
    "model = RandomForestClassifier(max_depth=5, n_estimators=10, max_features=1, random_state=1)"
   ]
  },
  {
   "cell_type": "code",
   "execution_count": 3,
   "id": "9d96efec-15b2-48e7-b736-014a94176bf9",
   "metadata": {},
   "outputs": [],
   "source": [
    "ic = 1\n",
    "model.fit(X_train, y_train)\n",
    "predict_proba = model.predict_proba(X_test)[:, ic]\n",
    "expected = y_test == ic\n",
    "\n",
    "# Mission Parameters\n",
    "mission_duration = 600 # seconds\n",
    "captures_per_second = 1\n",
    "n_sea_exp = 1000\n",
    "threshold = .8"
   ]
  },
  {
   "cell_type": "code",
   "execution_count": 4,
   "id": "3097e7b9-3af3-407e-a923-b1a9ebd907a9",
   "metadata": {},
   "outputs": [
    {
     "name": "stdout",
     "output_type": "stream",
     "text": [
      ">>> RELATÓRIO:\n",
      "- Espera-se que 0 imagens `no sea` sejam identificadas de forma equivocada.\n",
      "- Estima-se que 114 imagens `no sea` deverão passar despercebidas.\n"
     ]
    }
   ],
   "source": [
    "aussys_rb_thres(predict_proba,\n",
    "                expected,\n",
    "                mission_duration,\n",
    "                captures_per_second,\n",
    "                n_sea_exp,\n",
    "                threshold,\n",
    "                print_mode=True)"
   ]
  },
  {
   "cell_type": "code",
   "execution_count": 5,
   "id": "a41d8ddd-0d49-45e1-b1a1-26e2e13aeb7f",
   "metadata": {},
   "outputs": [
    {
     "name": "stdout",
     "output_type": "stream",
     "text": [
      ">>> RELATÓRIO SEA FPR:\n",
      "- Dado que podem ser aceitas até 0 imagens `no sea` identificadas de forma equivocadas,\n",
      "convêm-se utilizar um threshold de 0.88,\n",
      "e espera-se que 143 imagens passem despercebidas.\n",
      "\n",
      ">>> RELATÓRIO NOSEA FNR:\n",
      "- Dado que podem ser aceitas até 114 imagens `no sea` passarem despercebidas,\n",
      "convêm-se utilizar um threshold de 0.79,\n",
      "e espera-se que 0 imagens sejam identificadas de forma equivocadas.\n",
      "\n"
     ]
    }
   ],
   "source": [
    "aussys_rb_images(predict_proba,\n",
    "                 expected,\n",
    "                 mission_duration,\n",
    "                 captures_per_second,\n",
    "                 n_sea_exp,\n",
    "                 sea_fpr=0,\n",
    "                 nosea_fnr=114,\n",
    "                 print_mode=True)"
   ]
  }
 ],
 "metadata": {
  "kernelspec": {
   "display_name": "Python 3 (ipykernel)",
   "language": "python",
   "name": "python3"
  },
  "language_info": {
   "codemirror_mode": {
    "name": "ipython",
    "version": 3
   },
   "file_extension": ".py",
   "mimetype": "text/x-python",
   "name": "python",
   "nbconvert_exporter": "python",
   "pygments_lexer": "ipython3",
   "version": "3.8.10"
  }
 },
 "nbformat": 4,
 "nbformat_minor": 5
}
