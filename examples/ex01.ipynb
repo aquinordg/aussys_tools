{
 "cells": [
  {
   "cell_type": "code",
   "execution_count": null,
   "id": "d1bc0e23-0726-4e77-8731-906c551850a0",
   "metadata": {},
   "outputs": [],
   "source": [
    "!pip install git+https://github.com/aquinordg/mltools.git"
   ]
  },
  {
   "cell_type": "code",
   "execution_count": null,
   "id": "c9db6ad1-81a6-4894-8982-5441373ded84",
   "metadata": {},
   "outputs": [],
   "source": [
    "from sklearn.datasets import make_classification\n",
    "from sklearn.model_selection import train_test_split\n",
    "from sklearn.ensemble import RandomForestClassifier\n",
    "\n",
    "from mltools import aussys_rb_thres, aussys_rb_images\n",
    "\n",
    "\n",
    "X, y = make_classification(\n",
    "    n_samples=1_000,\n",
    "    n_features=2,\n",
    "    n_redundant=0,\n",
    "    n_informative=2,\n",
    "    random_state=1,\n",
    "    n_clusters_per_class=1,\n",
    ")\n",
    "\n",
    "X_train, X_test, y_train, y_test = train_test_split(X, y, test_size=0.4, random_state=0)\n",
    "\n",
    "model = RandomForestClassifier(max_depth=5, n_estimators=10, max_features=1, random_state=1)"
   ]
  },
  {
   "cell_type": "code",
   "execution_count": null,
   "id": "9d96efec-15b2-48e7-b736-014a94176bf9",
   "metadata": {},
   "outputs": [],
   "source": [
    "ic = 1\n",
    "model.fit(X_train, y_train)\n",
    "predict_proba = model.predict_proba(X_test)[:, ic]\n",
    "expected = y_test == ic\n",
    "\n",
    "# Mission Parameters\n",
    "mission_duration = 600 # seconds\n",
    "captures_per_second = 1\n",
    "n_sea_exp = 1000\n",
    "threshold = .8"
   ]
  },
  {
   "cell_type": "code",
   "execution_count": null,
   "id": "3097e7b9-3af3-407e-a923-b1a9ebd907a9",
   "metadata": {},
   "outputs": [],
   "source": [
    "aussys_rb_thres(predict_proba,\n",
    "                expected,\n",
    "                mission_duration,\n",
    "                captures_per_second,\n",
    "                n_sea_exp,\n",
    "                threshold,\n",
    "                print_mode=True)"
   ]
  },
  {
   "cell_type": "code",
   "execution_count": null,
   "id": "a41d8ddd-0d49-45e1-b1a1-26e2e13aeb7f",
   "metadata": {},
   "outputs": [],
   "source": [
    "aussys_rb_images(predict_proba,\n",
    "                 expected,\n",
    "                 mission_duration,\n",
    "                 captures_per_second,\n",
    "                 n_sea_exp,\n",
    "                 sea_fpr=0,\n",
    "                 nosea_fnr=114,\n",
    "                 print_mode=True)"
   ]
  }
 ],
 "metadata": {
  "kernelspec": {
   "display_name": "Python 3 (ipykernel)",
   "language": "python",
   "name": "python3"
  },
  "language_info": {
   "codemirror_mode": {
    "name": "ipython",
    "version": 3
   },
   "file_extension": ".py",
   "mimetype": "text/x-python",
   "name": "python",
   "nbconvert_exporter": "python",
   "pygments_lexer": "ipython3",
   "version": "3.8.10"
  }
 },
 "nbformat": 4,
 "nbformat_minor": 5
}
